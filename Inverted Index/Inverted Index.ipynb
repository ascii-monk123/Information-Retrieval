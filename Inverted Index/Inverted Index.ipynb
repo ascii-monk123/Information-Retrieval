{
 "cells": [
  {
   "cell_type": "code",
   "execution_count": 2,
   "id": "hearing-rings",
   "metadata": {},
   "outputs": [],
   "source": [
    "import numpy as np\n",
    "import pandas as pd\n"
   ]
  },
  {
   "cell_type": "markdown",
   "id": "informational-bermuda",
   "metadata": {},
   "source": [
    "<h1>Inverted Index</h1>"
   ]
  },
  {
   "cell_type": "markdown",
   "id": "about-garage",
   "metadata": {},
   "source": [
    "<p>An inverted index is an index like data structure. It is basically a hashmap like data structure which contains\n",
    "words as the keys, which point to a linked list like data-structure containing documents in which the word occurs, \n",
    "in a sorted manner.</p>"
   ]
  },
  {
   "cell_type": "markdown",
   "id": "norman-checklist",
   "metadata": {},
   "source": [
    "<img src=\"https://nlp.stanford.edu/IR-book/html/htmledition/img54.png\" alt=\"image not available\" style=\"border:1px solid red;\"/>"
   ]
  },
  {
   "cell_type": "markdown",
   "id": "mechanical-brighton",
   "metadata": {},
   "source": [
    "<h2>Step 1: Pre-Processing</h2>"
   ]
  },
  {
   "cell_type": "code",
   "execution_count": 60,
   "id": "turkish-concern",
   "metadata": {},
   "outputs": [
    {
     "name": "stdout",
     "output_type": "stream",
     "text": [
      "Original token count  is 897\n",
      "Token count after punctuation removal is 885\n"
     ]
    }
   ],
   "source": [
    "from nltk.tokenize import sent_tokenize,word_tokenize\n",
    "import os\n",
    "import string\n",
    "\n",
    "tokens=[]\n",
    "directory=\"/home/aahan/Documents/Academic/Information Retrieval/corpus/\"\n",
    "\n",
    "#store directory names, will be useful in the future\n",
    "dirNames=[]\n",
    "\n",
    "#convert corpus to tokens\n",
    "for filename in os.listdir(directory):\n",
    "    #check if text file\n",
    "    if filename.endswith(\".txt\"):\n",
    "        dirNames.append(filename[0:filename.index('.txt')])\n",
    "        with open(directory+filename) as fh:\n",
    "            text=fh.read()\n",
    "            toks=list(map(lambda s:s.lower(),word_tokenize(text)))\n",
    "            tokens=tokens+toks\n",
    "\n",
    "#remove duplicate words\n",
    "tokens=list(set(tokens))\n",
    "\n",
    "print(\"Original token count  is {}\".format(len(tokens)))\n",
    "\n",
    "#remove punctuation\n",
    "punctuation=list(string.punctuation)\n",
    "punctuation.append(\"''\")\n",
    "\n",
    "tokens=[token for token in tokens if token not in punctuation ]\n",
    "\n",
    "print(\"Token count after punctuation removal is {}\".format(len(tokens)))\n"
   ]
  },
  {
   "cell_type": "markdown",
   "id": "vanilla-extra",
   "metadata": {},
   "source": [
    "<h2>Step 2: Remove Stop Words</h2>"
   ]
  },
  {
   "cell_type": "code",
   "execution_count": 61,
   "id": "union-jenny",
   "metadata": {},
   "outputs": [
    {
     "name": "stdout",
     "output_type": "stream",
     "text": [
      "Token count after stop-word removal is 807\n"
     ]
    }
   ],
   "source": [
    "from nltk.corpus import stopwords\n",
    "\n",
    "st_words=stopwords.words(\"english\")\n",
    "\n",
    "tokens=[token for token in tokens if token not in st_words]\n",
    "\n",
    "print(\"Token count after stop-word removal is {}\".format(len(tokens)))"
   ]
  },
  {
   "cell_type": "markdown",
   "id": "fitted-steering",
   "metadata": {},
   "source": [
    "<h2> Step 3: Creating Inverted Index</h2>\n",
    "<p> Will not do stemming for ease of understanding</p>"
   ]
  },
  {
   "cell_type": "code",
   "execution_count": 62,
   "id": "accessible-florida",
   "metadata": {},
   "outputs": [],
   "source": [
    "#linked list for storing document indices\n",
    "#searching complexity O(n)\n",
    "#space complexity O(n*sizeof ll node), where n=size of linked list\n",
    "\n",
    "#node for linked list\n",
    "class Node:\n",
    "    def __init__(self,id):\n",
    "        self.id=id\n",
    "        self.next=None\n",
    "        \n",
    "#linked list object\n",
    "class LinkedList:\n",
    "    \n",
    "    #constructor method\n",
    "    def __init__(self):\n",
    "        self.head=None\n",
    "        \n",
    "    #add to linked list\n",
    "    def add(self,docId):\n",
    "        '''\n",
    "        Adds a document to the current linked list instance.\n",
    "        Takes in an inter docId which is the id of the document to be added.\n",
    "        '''\n",
    "        if self.head is None:\n",
    "            self.head=Node(docId)\n",
    "            return\n",
    "        \n",
    "        cur=self.head\n",
    "        \n",
    "        while(cur.next!=None):\n",
    "            cur=cur.next\n",
    "            \n",
    "        cur.next=Node(docId)\n",
    "        return\n",
    "    \n",
    "    #get the document id's for the linked list\n",
    "    def get_doc_Ids(self):\n",
    "        '''\n",
    "        Returns the docIds for all the documents in the linked list.\n",
    "        '''\n",
    "        \n",
    "        cur=self.head\n",
    "        ids=[]\n",
    "        \n",
    "        #iterate throught the linked list and store document ids\n",
    "        while(cur!=None):\n",
    "            ids.append(cur.id)\n",
    "            cur=cur.next\n",
    "        \n",
    "        return ids\n",
    "        \n",
    "        "
   ]
  },
  {
   "cell_type": "code",
   "execution_count": 63,
   "id": "brilliant-rochester",
   "metadata": {},
   "outputs": [],
   "source": [
    "#hashmap for inverted index\n",
    "invtIndex=dict()\n",
    "#initialize inverted index\n",
    "for token in tokens:\n",
    "    #create a new entry in the hashmap\n",
    "    invtIndex[token]={'docfreq':0,'docList':LinkedList()}\n",
    "    \n",
    "    "
   ]
  },
  {
   "cell_type": "code",
   "execution_count": 64,
   "id": "conventional-replica",
   "metadata": {},
   "outputs": [
    {
     "name": "stdout",
     "output_type": "stream",
     "text": [
      "['dbz', 'doomEternal', 'twice', 'maroon5', 'coldplay', 'bioshock']\n"
     ]
    }
   ],
   "source": [
    "#iterate through each document\n",
    "for doc_id,filename in enumerate(os.listdir(directory)):\n",
    "    \n",
    "    #check if text file\n",
    "    if filename.endswith(\".txt\"):\n",
    "                \n",
    "        with open(directory+filename) as fh:\n",
    "            \n",
    "            text=fh.read()\n",
    "            \n",
    "            #read tokens from file\n",
    "            toks=list(map(lambda s:s.lower(),word_tokenize(text)))\n",
    "            \n",
    "            #remove punctuation\n",
    "            toks=[token for token in toks if token not in punctuation ]\n",
    "            \n",
    "            #remove stopwords\n",
    "            toks=[token for token in toks if token not in st_words]\n",
    "            \n",
    "            for token in toks:\n",
    "                \n",
    "                #if token found in invtIndex\n",
    "                if token in invtIndex.keys():\n",
    "                    \n",
    "                    #add to the linkedlist for the token\n",
    "                    invtIndex[token]['docList'].add(doc_id+1)\n",
    "                    \n",
    "                    \n",
    "\n",
    "    \n",
    "print(dirNames)    \n",
    "\n",
    "            \n"
   ]
  },
  {
   "cell_type": "markdown",
   "id": "computational-cargo",
   "metadata": {},
   "source": [
    "<h2>Step 4: Visualize inverted index as a dataframe</h2>"
   ]
  },
  {
   "cell_type": "code",
   "execution_count": 57,
   "id": "answering-pointer",
   "metadata": {},
   "outputs": [],
   "source": [
    "#list to store one-hot encoded form of doc and words\n",
    "dfMap=dict()\n",
    "#iterate through inverted index hashmap\n",
    "\n",
    "for ele in invtIndex.keys():\n",
    "    \n",
    "    #get all documents for a given word\n",
    "    listDocs=invtIndex[ele]['docList'].get_doc_Ids()\n",
    "    \n",
    "    #dfMap one hot endoded scheme\n",
    "    dfMapList=[]\n",
    "    for idx,_ in enumerate(dirNames):\n",
    "        \n",
    "        if idx+1 in listDocs:\n",
    "            \n",
    "            dfMapList.append(1)\n",
    "        \n",
    "        else:\n",
    "            \n",
    "            dfMapList.append(0)\n",
    "    \n",
    "    dfMap[ele]=dfMapList\n",
    "    \n",
    "#create a dataframe\n",
    "df=pd.DataFrame.from_dict(dfMap,orient=\"index\")\n",
    "\n",
    "df.columns=dirNames\n"
   ]
  },
  {
   "cell_type": "code",
   "execution_count": 58,
   "id": "educational-finger",
   "metadata": {},
   "outputs": [
    {
     "data": {
      "text/html": [
       "<div>\n",
       "<style scoped>\n",
       "    .dataframe tbody tr th:only-of-type {\n",
       "        vertical-align: middle;\n",
       "    }\n",
       "\n",
       "    .dataframe tbody tr th {\n",
       "        vertical-align: top;\n",
       "    }\n",
       "\n",
       "    .dataframe thead th {\n",
       "        text-align: right;\n",
       "    }\n",
       "</style>\n",
       "<table border=\"1\" class=\"dataframe\">\n",
       "  <thead>\n",
       "    <tr style=\"text-align: right;\">\n",
       "      <th></th>\n",
       "      <th>dbz</th>\n",
       "      <th>doomEternal</th>\n",
       "      <th>twice</th>\n",
       "      <th>maroon5</th>\n",
       "      <th>coldplay</th>\n",
       "      <th>bioshock</th>\n",
       "      <th>dbz</th>\n",
       "      <th>doomEternal</th>\n",
       "      <th>twice</th>\n",
       "      <th>maroon5</th>\n",
       "      <th>coldplay</th>\n",
       "      <th>bioshock</th>\n",
       "    </tr>\n",
       "  </thead>\n",
       "  <tbody>\n",
       "    <tr>\n",
       "      <th>aliens</th>\n",
       "      <td>1</td>\n",
       "      <td>0</td>\n",
       "      <td>0</td>\n",
       "      <td>0</td>\n",
       "      <td>0</td>\n",
       "      <td>0</td>\n",
       "      <td>0</td>\n",
       "      <td>0</td>\n",
       "      <td>0</td>\n",
       "      <td>0</td>\n",
       "      <td>0</td>\n",
       "      <td>0</td>\n",
       "    </tr>\n",
       "    <tr>\n",
       "      <th>stadia</th>\n",
       "      <td>0</td>\n",
       "      <td>1</td>\n",
       "      <td>0</td>\n",
       "      <td>0</td>\n",
       "      <td>0</td>\n",
       "      <td>0</td>\n",
       "      <td>0</td>\n",
       "      <td>0</td>\n",
       "      <td>0</td>\n",
       "      <td>0</td>\n",
       "      <td>0</td>\n",
       "      <td>0</td>\n",
       "    </tr>\n",
       "    <tr>\n",
       "      <th>begins</th>\n",
       "      <td>0</td>\n",
       "      <td>0</td>\n",
       "      <td>1</td>\n",
       "      <td>0</td>\n",
       "      <td>0</td>\n",
       "      <td>0</td>\n",
       "      <td>0</td>\n",
       "      <td>0</td>\n",
       "      <td>0</td>\n",
       "      <td>0</td>\n",
       "      <td>0</td>\n",
       "      <td>0</td>\n",
       "    </tr>\n",
       "    <tr>\n",
       "      <th>tour</th>\n",
       "      <td>0</td>\n",
       "      <td>0</td>\n",
       "      <td>1</td>\n",
       "      <td>0</td>\n",
       "      <td>0</td>\n",
       "      <td>0</td>\n",
       "      <td>0</td>\n",
       "      <td>0</td>\n",
       "      <td>0</td>\n",
       "      <td>0</td>\n",
       "      <td>0</td>\n",
       "      <td>0</td>\n",
       "    </tr>\n",
       "    <tr>\n",
       "      <th>aid</th>\n",
       "      <td>0</td>\n",
       "      <td>0</td>\n",
       "      <td>0</td>\n",
       "      <td>0</td>\n",
       "      <td>1</td>\n",
       "      <td>0</td>\n",
       "      <td>0</td>\n",
       "      <td>0</td>\n",
       "      <td>0</td>\n",
       "      <td>0</td>\n",
       "      <td>0</td>\n",
       "      <td>0</td>\n",
       "    </tr>\n",
       "  </tbody>\n",
       "</table>\n",
       "</div>"
      ],
      "text/plain": [
       "        dbz  doomEternal  twice  maroon5  coldplay  bioshock  dbz  \\\n",
       "aliens    1            0      0        0         0         0    0   \n",
       "stadia    0            1      0        0         0         0    0   \n",
       "begins    0            0      1        0         0         0    0   \n",
       "tour      0            0      1        0         0         0    0   \n",
       "aid       0            0      0        0         1         0    0   \n",
       "\n",
       "        doomEternal  twice  maroon5  coldplay  bioshock  \n",
       "aliens            0      0        0         0         0  \n",
       "stadia            0      0        0         0         0  \n",
       "begins            0      0        0         0         0  \n",
       "tour              0      0        0         0         0  \n",
       "aid               0      0        0         0         0  "
      ]
     },
     "execution_count": 58,
     "metadata": {},
     "output_type": "execute_result"
    }
   ],
   "source": [
    "df.head()"
   ]
  },
  {
   "cell_type": "code",
   "execution_count": null,
   "id": "manual-valve",
   "metadata": {},
   "outputs": [],
   "source": []
  }
 ],
 "metadata": {
  "kernelspec": {
   "display_name": "Python 3",
   "language": "python",
   "name": "python3"
  },
  "language_info": {
   "codemirror_mode": {
    "name": "ipython",
    "version": 3
   },
   "file_extension": ".py",
   "mimetype": "text/x-python",
   "name": "python",
   "nbconvert_exporter": "python",
   "pygments_lexer": "ipython3",
   "version": "3.8.10"
  }
 },
 "nbformat": 4,
 "nbformat_minor": 5
}

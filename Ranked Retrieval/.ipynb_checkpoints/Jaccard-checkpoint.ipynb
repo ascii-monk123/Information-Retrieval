{
 "cells": [
  {
   "cell_type": "code",
   "execution_count": 8,
   "id": "personal-baseline",
   "metadata": {},
   "outputs": [],
   "source": [
    "import numpy as np\n",
    "import pandas as pd\n",
    "import os\n",
    "import string\n",
    "from nltk.tokenize import sent_tokenize,word_tokenize\n",
    "from nltk.corpus import stopwords"
   ]
  },
  {
   "cell_type": "markdown",
   "id": "seventh-asthma",
   "metadata": {},
   "source": [
    "<h2>Jaccard Coefficient</h2>"
   ]
  },
  {
   "cell_type": "markdown",
   "id": "joint-occupation",
   "metadata": {},
   "source": [
    "<img src=\"https://miro.medium.com/max/744/1*XiLRKr_Bo-VdgqVI-SvSQg.png\"/>"
   ]
  },
  {
   "cell_type": "code",
   "execution_count": 28,
   "id": "polyphonic-european",
   "metadata": {},
   "outputs": [],
   "source": [
    "class Jaccard:\n",
    "    \n",
    "    def __init__(self,corpusPath):\n",
    "        '''\n",
    "        Constructor  function for the jackard class. \n",
    "        Inputs:\n",
    "        corpusPath => path to the corpus (str)\n",
    "        returns => None.\n",
    "        '''\n",
    "        self.corpusPath=corpusPath\n",
    "    \n",
    "    def listDocuments(self):\n",
    "        '''\n",
    "        Returns a list containing the documents in the corpus.\n",
    "        Input=>None\n",
    "        returns=> list.\n",
    "        '''\n",
    "        docNames=[]\n",
    "        \n",
    "        #go through each file\n",
    "        for filename in os.listdir(self.corpusPath):\n",
    "            #check for txt files\n",
    "            if filename.endswith(\".txt\"):\n",
    "                docNames.append(filename[0:filename.index(\".txt\")])\n",
    "                \n",
    "        return docNames\n",
    "    \n",
    "    def coeff(self,query):\n",
    "        '''\n",
    "        Calculats the jaccard coefficient score for the corpus.\n",
    "        Returns a list containing coefficient scores for the corpus.\n",
    "        Input => query (str).\n",
    "        Returns => tuple contaning document name and the respective jaccard score\n",
    "        '''\n",
    "        coefficients=[]\n",
    "        docNames=[]\n",
    "        \n",
    "        query=query.lower()\n",
    "        #get normalized query\n",
    "        norm_query=self.__process_words(query)\n",
    "        \n",
    "        for filename in os.listdir(self.corpusPath):\n",
    "            #add document name to list\n",
    "            if filename.endswith(\".txt\"):\n",
    "                docNames.append(filename[0:filename.index(\".txt\")])\n",
    "                \n",
    "                #open file\n",
    "                with open(self.corpusPath+filename) as fh:\n",
    "                    \n",
    "                    #read file text\n",
    "                    text=fh.read()\n",
    "                    text=text.lower()\n",
    "                    norm_text=self.__process_words(text)\n",
    "                    \n",
    "                    #find the total number of elements and the total elements in the corpus\n",
    "                    norm_text_set=set(norm_text)\n",
    "                    norm_query_set=set(norm_query)\n",
    "        \n",
    "                    common=len(norm_text_set.intersection(norm_query_set))\n",
    "                    total=len(norm_text_set.union(norm_query_set))\n",
    "                    \n",
    "                    jaccard_coeff=common/total\n",
    "                    coefficients.append(jaccard_coeff)\n",
    "                    \n",
    "        #return the info tuple\n",
    "        return (coefficients,docNames)        \n",
    "            \n",
    "        \n",
    "    def __process_words(self,text):\n",
    "        '''\n",
    "        Normalizes document text or query.\n",
    "        Input => document text | query (str)\n",
    "        returns => normalized text | query (list).\n",
    "        '''\n",
    "        tokens=list(map(lambda s:s.lower(),word_tokenize(text)))\n",
    "        \n",
    "        tokens=list(set(tokens))\n",
    "        \n",
    "        #remove punctuation\n",
    "        punctuation=list(string.punctuation)\n",
    "        punctuation.append(\"''\")\n",
    "        \n",
    "        tokens=[token for token in tokens if token not in punctuation]\n",
    "        \n",
    "        #remove stopwords\n",
    "        st_words=stopwords.words(\"english\")\n",
    "        tokens=[token for token in tokens if token not in st_words]\n",
    "        return tokens\n",
    "        "
   ]
  },
  {
   "cell_type": "code",
   "execution_count": 32,
   "id": "passive-publisher",
   "metadata": {},
   "outputs": [
    {
     "name": "stdout",
     "output_type": "stream",
     "text": [
      "([0.0, 0.017391304347826087, 0.0, 0.0, 0.0, 0.0], ['dbz', 'doomEternal', 'twice', 'maroon5', 'coldplay', 'bioshock'])\n",
      "([0.0, 0.0, 0.005649717514124294, 0.004807692307692308, 0.0045662100456621, 0.0], ['dbz', 'doomEternal', 'twice', 'maroon5', 'coldplay', 'bioshock'])\n",
      "([0.0, 0.02586206896551724, 0.0056179775280898875, 0.0, 0.0, 0.00411522633744856], ['dbz', 'doomEternal', 'twice', 'maroon5', 'coldplay', 'bioshock'])\n"
     ]
    }
   ],
   "source": [
    "directory=\"/home/aahan/Documents/Academic/Information Retrieval/corpus/\"\n",
    "jc=Jaccard(directory)\n",
    "print(jc.coeff(\"Doom Eternal\"))\n",
    "print(jc.coeff(\"I want to listen to music\"))\n",
    "print(jc.coeff(\"I want to play an action game\"))"
   ]
  },
  {
   "cell_type": "code",
   "execution_count": 19,
   "id": "treated-mambo",
   "metadata": {},
   "outputs": [
    {
     "data": {
      "text/plain": [
       "4"
      ]
     },
     "execution_count": 19,
     "metadata": {},
     "output_type": "execute_result"
    }
   ],
   "source": [
    "s=set([\"A\",\"B\",\"C\"])\n",
    "b=set([\"B\",\"C\",\"D\"])\n",
    "len(s.intersection(b))\n",
    "len(s.union(b))"
   ]
  },
  {
   "cell_type": "code",
   "execution_count": 18,
   "id": "ceramic-theater",
   "metadata": {},
   "outputs": [
    {
     "data": {
      "text/plain": [
       "'sata'"
      ]
     },
     "execution_count": 18,
     "metadata": {},
     "output_type": "execute_result"
    }
   ],
   "source": [
    "\"Sata\".lower()"
   ]
  },
  {
   "cell_type": "code",
   "execution_count": null,
   "id": "burning-trail",
   "metadata": {},
   "outputs": [],
   "source": []
  }
 ],
 "metadata": {
  "kernelspec": {
   "display_name": "Python 3",
   "language": "python",
   "name": "python3"
  },
  "language_info": {
   "codemirror_mode": {
    "name": "ipython",
    "version": 3
   },
   "file_extension": ".py",
   "mimetype": "text/x-python",
   "name": "python",
   "nbconvert_exporter": "python",
   "pygments_lexer": "ipython3",
   "version": "3.8.10"
  }
 },
 "nbformat": 4,
 "nbformat_minor": 5
}

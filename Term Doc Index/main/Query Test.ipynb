{
 "cells": [
  {
   "cell_type": "code",
   "execution_count": 1,
   "id": "loving-nursing",
   "metadata": {},
   "outputs": [],
   "source": [
    "import re\n",
    "import numpy as np\n",
    "import pandas as pd"
   ]
  },
  {
   "cell_type": "code",
   "execution_count": 317,
   "id": "loved-arbor",
   "metadata": {},
   "outputs": [],
   "source": [
    "#main class that will process logical queries\n",
    "class Query:\n",
    "    \n",
    "    def __init__(self,query)->None:\n",
    "        '''\n",
    "        Constructor function for query class. Takes in a single query\n",
    "        Input type:str.\n",
    "        For naive implementation, this function assumes that the query is of the type: a or b and c .......\n",
    "        Any brackets or illegal characters will cause the query to fail.\n",
    "        Also,it is assumed that the query characters are space separated.\n",
    "        \n",
    "        '''\n",
    "        self.query=query.lower()\n",
    "    \n",
    "    #this function will process query and return a result\n",
    "    def process_query(self,doc):\n",
    "        '''\n",
    "        Function to perform query operation on the input document.\n",
    "        Inputs: a pandas dataframe object of the term document index form.\n",
    "        \n",
    "        '''\n",
    "        #split the query into a list\n",
    "        querycpy=self.query.split(\" \")\n",
    "        \n",
    "        querycpy.reverse()\n",
    "        \n",
    "        #list of all possible query joiners\n",
    "        list_bools=['and','not','or']\n",
    "        \n",
    "        prevEle=None\n",
    "        nextEle=None\n",
    "        prevQuery=None\n",
    "        err=False\n",
    "        \n",
    "        while(len(querycpy)>0):\n",
    "            element=querycpy.pop(0)\n",
    "            \n",
    "            #check if element is a boolean operator //O(3)\n",
    "            if element in list_bools:\n",
    "                \n",
    "                #if boolean operator doesnt have any operation to perform\n",
    "                if prevEle is None:\n",
    "                    err=True\n",
    "                    break\n",
    "                    \n",
    "                elif element==\"not\":\n",
    "                    \n",
    "                    prevQuery=self.solve_query(prevEle,nextEle,element,doc,prevQuery)\n",
    "                    prevEle=prevQuery\n",
    "                    nextEle=None\n",
    "                    \n",
    "                elif prevEle is not None and nextEle is None:\n",
    "                    \n",
    "                    nextEle=querycpy.pop()\n",
    "                    prevQuery=self.solve_query(prevEle,nextEle,element,doc,prevQuery)\n",
    "                    prevEle=prevQuery\n",
    "                    nextEle=None\n",
    "                    \n",
    "            elif prevEle is not None and nextEle is None:\n",
    "                nextEle=element\n",
    "                \n",
    "            elif prevEle is None and nextEle is None:\n",
    "                \n",
    "                prevEle=element\n",
    "            \n",
    "            elif prevEle is None and nextEle is not None:\n",
    "                \n",
    "                err=True\n",
    "                break\n",
    "        if err:\n",
    "            return None\n",
    "        return prevQuery\n",
    "    \n",
    "\n",
    "                \n",
    "    #this function will solve the query being generated from process query function\n",
    "    def solve_query(self,prevEle,nextEle,operator,df,prevQuery):\n",
    "        '''\n",
    "        This function will solve the query being generated from process query function.\n",
    "        returns a binary string representing the boolean operation of the query on tdi.\n",
    "        Input: term1,term2,boolean query type,document.\n",
    "        Returns: a dataframe of found documents\n",
    "        \n",
    "        '''\n",
    "        result=None\n",
    "        print('Prev :{}'.format(prevEle))\n",
    "        print('Next :{}'.format(nextEle))\n",
    "        print('Operator :{}'.format(operator))\n",
    "        print('prevQuery :{}'.format(prevQuery))\n",
    "\n",
    "\n",
    "        if prevQuery is None:\n",
    "            \n",
    "            if operator==\"not\":\n",
    "                \n",
    "                result=df.loc[df[\"tokens\"]==prevEle]\n",
    "                result=self.convert(result)\n",
    "                result=self.not_operation(result)\n",
    "                \n",
    "            \n",
    "            elif operator==\"or\":\n",
    "                \n",
    "                result=df.loc[df['tokens']==prevEle]\n",
    "                result=self.convert(result)\n",
    "          \n",
    "                result2=df.loc[df['tokens']==nextEle]\n",
    "                result2=self.convert(result2)   \n",
    "                \n",
    "                result=self.or_operation(result,result2)\n",
    "            \n",
    "            elif operator==\"and\":\n",
    "                \n",
    "                result=df.loc[df['tokens']==prevEle]\n",
    "                result=self.convert(result)   \n",
    "                result2=df.loc[df['tokens']==nextEle]\n",
    "                result2=self.convert(result2)   \n",
    "                \n",
    "                result=self.and_operation(result,result2)\n",
    "        \n",
    "        else:\n",
    "            \n",
    "            if operator==\"not\":\n",
    "                \n",
    "                result=self.not_operation(prevQuery)\n",
    "                \n",
    "            elif operator==\"and\":\n",
    "                \n",
    "                result2=df.loc[df['tokens']==nextEle]\n",
    "                result2=self.convert(result2)   \n",
    "                \n",
    "                result=self.and_operation(prevQuery,result2)\n",
    "                \n",
    "            elif operator==\"or\":\n",
    "                \n",
    "                result2=df.loc[df['tokens']==nextEle]\n",
    "                result2=self.convert(result2)   \n",
    "              \n",
    "                result=self.or_operation(prevQuery,result2)\n",
    "                                \n",
    "        return result    \n",
    "                \n",
    "                \n",
    "                \n",
    "    #not operation function      \n",
    "    def not_operation(self,data):\n",
    "        '''\n",
    "        Perform not operation on a list.\n",
    "        Input data->list (strings)\n",
    "        returns list.\n",
    "        '''\n",
    "     \n",
    "        dt=data[:]\n",
    "       \n",
    "        for (idx,ele) in enumerate(dt):\n",
    "     \n",
    "            if ele==\"0\":\n",
    "                dt[idx]=\"1\"\n",
    "                \n",
    "            elif ele==\"1\":\n",
    "                dt[idx]=\"0\"\n",
    "        return dt\n",
    "    \n",
    "    \n",
    "    #and operation function\n",
    "    def and_operation(self,data,data2):\n",
    "        '''\n",
    "        Perform and operation on a list.\n",
    "        Input data->list (strings),number=2\n",
    "        returns list.\n",
    "        '''\n",
    "        dt=data[:]\n",
    "        dt2=data2[:]\n",
    "        \n",
    "        idx=0\n",
    "        for (ele1,ele2) in zip(dt,dt2):\n",
    "            if bool(int(ele1)) and bool(int(ele2)):\n",
    "                dt[idx]=\"1\"\n",
    "                \n",
    "            else:    \n",
    "                dt[idx]=\"0\"\n",
    "            idx+=1\n",
    "            \n",
    "        return dt\n",
    "    \n",
    "\n",
    "\n",
    "    \n",
    "    #OR operation function\n",
    "    def or_operation(self,data,data2):\n",
    "        '''\n",
    "        Perform OR operation on 2 list.\n",
    "        Input data->list (strings),number =2\n",
    "        returns list.\n",
    "        '''\n",
    "        dt=data[:]\n",
    "        dt2=data2[:]\n",
    "        \n",
    "        idx=0\n",
    "        \n",
    "        for (ele1,ele2) in zip(dt,dt2):\n",
    "            if bool(int(ele1)) or bool(int(ele2)):\n",
    "                dt[idx]=\"1\"\n",
    "                \n",
    "            else:    \n",
    "                dt[idx]=\"0\"\n",
    "            idx+=1\n",
    "            \n",
    "        return dt\n",
    "                        \n",
    "    def convert(self,data):\n",
    "        '''\n",
    "        Converts empty dataframe to 0 list and series to list.\n",
    "        '''\n",
    "        print(data)\n",
    "        if isinstance(data,pd.DataFrame):\n",
    "            \n",
    "            if data.empty:\n",
    "                lis=[\"0\" for ele in list(data.columns)]\n",
    "                lis.pop(0)\n",
    "                return lis\n",
    "            \n",
    "            else:\n",
    "                lis=data.drop(labels=[\"tokens\"],axis=1)\n",
    "                lis=np.array(lis.values.tolist()).ravel()\n",
    "                return list(map(str,lis.tolist()))\n",
    "        \n",
    "        elif isinstance(data,pd.Series):\n",
    "            return list(map(str,data.tolist()))\n",
    "        \n",
    "            \n",
    "        \n",
    "\n",
    "                \n",
    "            \n",
    "        \n",
    "        \n",
    "        \n",
    "    \n",
    "    "
   ]
  },
  {
   "cell_type": "code",
   "execution_count": 318,
   "id": "middle-magnitude",
   "metadata": {},
   "outputs": [
    {
     "name": "stdout",
     "output_type": "stream",
     "text": [
      "Help on function __init__ in module __main__:\n",
      "\n",
      "__init__(self, query) -> None\n",
      "    Constructor function for query class. Takes in a single query\n",
      "    Input type:str.\n",
      "    For naive implementation, this function assumes that the query is of the type: a or b and c .......\n",
      "    Any brackets or illegal characters will cause the query to fail.\n",
      "    Also,it is assumed that the query characters are space separated.\n",
      "\n"
     ]
    }
   ],
   "source": [
    "help(Query.__init__)"
   ]
  },
  {
   "cell_type": "code",
   "execution_count": 319,
   "id": "global-incentive",
   "metadata": {},
   "outputs": [
    {
     "data": {
      "text/plain": [
       "True"
      ]
     },
     "execution_count": 319,
     "metadata": {},
     "output_type": "execute_result"
    }
   ],
   "source": [
    "bool(int(\"1\"))"
   ]
  },
  {
   "cell_type": "markdown",
   "id": "written-sympathy",
   "metadata": {},
   "source": [
    "<h2>Testing Query</h2>"
   ]
  },
  {
   "cell_type": "code",
   "execution_count": 322,
   "id": "prescription-emission",
   "metadata": {},
   "outputs": [],
   "source": [
    "query=\"maroon and adam\"\n",
    "q=Query(query)\n",
    "df=pd.read_csv(\"../data/term_matrix.csv\")"
   ]
  },
  {
   "cell_type": "code",
   "execution_count": 323,
   "id": "athletic-buying",
   "metadata": {},
   "outputs": [
    {
     "name": "stdout",
     "output_type": "stream",
     "text": [
      "Prev :adam\n",
      "Next :maroon\n",
      "Operator :and\n",
      "prevQuery :None\n",
      "    tokens  dbz  doomEternal  twice  maroon5  coldplay  bioshock\n",
      "523   adam    0            0      0        1         0         0\n",
      "     tokens  dbz  doomEternal  twice  maroon5  coldplay  bioshock\n",
      "481  maroon    0            0      0        1         0         0\n"
     ]
    },
    {
     "data": {
      "text/plain": [
       "['0', '0', '0', '1', '0', '0']"
      ]
     },
     "execution_count": 323,
     "metadata": {},
     "output_type": "execute_result"
    }
   ],
   "source": [
    "q.process_query(df)"
   ]
  },
  {
   "cell_type": "code",
   "execution_count": 324,
   "id": "human-imagination",
   "metadata": {},
   "outputs": [
    {
     "data": {
      "text/plain": [
       "tokens  dbz  doomEternal  twice  maroon5  coldplay  bioshock\n",
       "dragon  1    0            0      0        0         0           1\n",
       "dtype: int64"
      ]
     },
     "execution_count": 324,
     "metadata": {},
     "output_type": "execute_result"
    }
   ],
   "source": [
    "df.loc[df['tokens']=='dragon'].value_counts()"
   ]
  },
  {
   "cell_type": "code",
   "execution_count": 325,
   "id": "embedded-leonard",
   "metadata": {},
   "outputs": [
    {
     "data": {
      "text/plain": [
       "False"
      ]
     },
     "execution_count": 325,
     "metadata": {},
     "output_type": "execute_result"
    }
   ],
   "source": [
    "df.empty"
   ]
  },
  {
   "cell_type": "code",
   "execution_count": null,
   "id": "guided-baseball",
   "metadata": {},
   "outputs": [],
   "source": []
  }
 ],
 "metadata": {
  "kernelspec": {
   "display_name": "Python 3",
   "language": "python",
   "name": "python3"
  },
  "language_info": {
   "codemirror_mode": {
    "name": "ipython",
    "version": 3
   },
   "file_extension": ".py",
   "mimetype": "text/x-python",
   "name": "python",
   "nbconvert_exporter": "python",
   "pygments_lexer": "ipython3",
   "version": "3.8.10"
  }
 },
 "nbformat": 4,
 "nbformat_minor": 5
}

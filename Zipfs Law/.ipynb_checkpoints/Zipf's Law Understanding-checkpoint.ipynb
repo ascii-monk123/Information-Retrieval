{
 "cells": [
  {
   "cell_type": "code",
   "execution_count": 21,
   "id": "criminal-exemption",
   "metadata": {},
   "outputs": [],
   "source": [
    "#import important packages\n",
    "import numpy as np\n",
    "import pandas as pd\n",
    "import os\n",
    "import string\n",
    "import glob\n",
    "from nltk.tokenize import sent_tokenize,word_tokenize,RegexpTokenizer\n",
    "from nltk.corpus import stopwords\n",
    "\n"
   ]
  },
  {
   "cell_type": "markdown",
   "id": "olympic-hardwood",
   "metadata": {},
   "source": [
    "<h2 style=\"color:red;\">Zipf's Law</h2>\n",
    "<hr style=\"color:#eee; height:1px\">\n",
    "<p>Zipf's law is a law about frequency distribution of words in a language.<br/>\n",
    "Let's construct a frequency distribution of words from Shakespeare corpus</p>\n",
    "\n"
   ]
  },
  {
   "cell_type": "code",
   "execution_count": 78,
   "id": "decreased-going",
   "metadata": {},
   "outputs": [],
   "source": [
    "corpus_path=\"/home/aahan/Documents/Academic/Information Retrieval/shakespeare_corpus\"\n",
    "\n",
    "\n",
    "#convert text to tokens\n",
    "def get_tokens(text):\n",
    "    '''\n",
    "    Applies normalization on text and converts to tokens.\n",
    "    returns=>token list.\n",
    "    '''\n",
    "    tokenizer=RegexpTokenizer(r'\\w+')\n",
    "    tokens=list(map(lambda s:s.lower(),tokenizer.tokenize(text)))\n",
    "    #remove duplicates\n",
    "    tokens=list(set(tokens))\n",
    "    #remove punctuation\n",
    "    punctuation=list(string.punctuation)\n",
    "    punctuation.append(\"''\")\n",
    "    tokens=[token for token in tokens if token not in punctuation ]\n",
    "    #remove stopwords\n",
    "    st_words=stopwords.words(\"english\")\n",
    "    tokens=[token for token in tokens if token not in st_words]\n",
    "    \n",
    "    return tokens\n",
    "\n",
    "\n",
    "    \n",
    "\n",
    "#function to convert all the text documents to word frequency dataframe\n",
    "def construct_word_frequency(corpus_path):\n",
    "    terms=dict()\n",
    "    \n",
    "    #all text files in a folder\n",
    "    files = glob.glob(corpus_path + '/**/*.txt', recursive=True)\n",
    "\n",
    "    #loop through folder contents\n",
    "    for filename in files:\n",
    "        #if text file, then read\n",
    "        if filename.endswith(\".txt\"):\n",
    "            with open(filename,encoding=\"utf-8\", errors='replace') as fh:\n",
    "                text=fh.read()\n",
    "                tokens=get_tokens(text)\n",
    "                if r\"匼䕐䍅\" in tokens:\n",
    "                    print(filename)\n",
    "                \n",
    "                #add tokens to terms dict\n",
    "                for term in tokens:\n",
    "                    if term in terms.keys():\n",
    "                        terms[term]=terms.get(term)+1\n",
    "                    else:\n",
    "                        terms[term]=1\n",
    "    return terms\n",
    "            \n",
    "\n",
    "    "
   ]
  },
  {
   "cell_type": "code",
   "execution_count": 79,
   "id": "protective-muslim",
   "metadata": {},
   "outputs": [],
   "source": [
    "term_freq=construct_word_frequency(corpus_path)"
   ]
  },
  {
   "cell_type": "code",
   "execution_count": 80,
   "id": "pursuant-programmer",
   "metadata": {},
   "outputs": [
    {
     "name": "stdout",
     "output_type": "stream",
     "text": [
      "12940\n"
     ]
    }
   ],
   "source": [
    "print(len(term_freq.keys()))"
   ]
  },
  {
   "cell_type": "markdown",
   "id": "altered-education",
   "metadata": {},
   "source": [
    "<p>A lot of terms</p>"
   ]
  },
  {
   "cell_type": "markdown",
   "id": "happy-right",
   "metadata": {},
   "source": [
    "<h2>Convert to dataframe<h2>"
   ]
  },
  {
   "cell_type": "code",
   "execution_count": 81,
   "id": "authentic-direction",
   "metadata": {},
   "outputs": [],
   "source": [
    "terms=[]\n",
    "freq=[]\n",
    "\n",
    "for key in term_freq.keys():\n",
    "    terms.append(key)\n",
    "    freq.append(term_freq[key])\n",
    "\n",
    "#dict for data frame\n",
    "df_data={\"term\":terms,\"frequency\":freq}\n",
    "\n",
    "#convert to dataframe\n",
    "df=pd.DataFrame(df_data)\n"
   ]
  },
  {
   "cell_type": "code",
   "execution_count": 82,
   "id": "waiting-river",
   "metadata": {},
   "outputs": [
    {
     "data": {
      "text/html": [
       "<div>\n",
       "<style scoped>\n",
       "    .dataframe tbody tr th:only-of-type {\n",
       "        vertical-align: middle;\n",
       "    }\n",
       "\n",
       "    .dataframe tbody tr th {\n",
       "        vertical-align: top;\n",
       "    }\n",
       "\n",
       "    .dataframe thead th {\n",
       "        text-align: right;\n",
       "    }\n",
       "</style>\n",
       "<table border=\"1\" class=\"dataframe\">\n",
       "  <thead>\n",
       "    <tr style=\"text-align: right;\">\n",
       "      <th></th>\n",
       "      <th>term</th>\n",
       "      <th>frequency</th>\n",
       "    </tr>\n",
       "  </thead>\n",
       "  <tbody>\n",
       "    <tr>\n",
       "      <th>0</th>\n",
       "      <td>8</td>\n",
       "      <td>229</td>\n",
       "    </tr>\n",
       "    <tr>\n",
       "      <th>1</th>\n",
       "      <td>2</td>\n",
       "      <td>423</td>\n",
       "    </tr>\n",
       "    <tr>\n",
       "      <th>2</th>\n",
       "      <td>7</td>\n",
       "      <td>249</td>\n",
       "    </tr>\n",
       "    <tr>\n",
       "      <th>3</th>\n",
       "      <td>k</td>\n",
       "      <td>24</td>\n",
       "    </tr>\n",
       "    <tr>\n",
       "      <th>4</th>\n",
       "      <td>w</td>\n",
       "      <td>10</td>\n",
       "    </tr>\n",
       "  </tbody>\n",
       "</table>\n",
       "</div>"
      ],
      "text/plain": [
       "  term  frequency\n",
       "0    8        229\n",
       "1    2        423\n",
       "2    7        249\n",
       "3    k         24\n",
       "4    w         10"
      ]
     },
     "execution_count": 82,
     "metadata": {},
     "output_type": "execute_result"
    }
   ],
   "source": [
    "df.head()"
   ]
  },
  {
   "cell_type": "markdown",
   "id": "specified-system",
   "metadata": {},
   "source": [
    "<h2>Descending Order of frequencies</h2>"
   ]
  },
  {
   "cell_type": "code",
   "execution_count": 83,
   "id": "academic-replacement",
   "metadata": {},
   "outputs": [
    {
     "data": {
      "text/html": [
       "<div>\n",
       "<style scoped>\n",
       "    .dataframe tbody tr th:only-of-type {\n",
       "        vertical-align: middle;\n",
       "    }\n",
       "\n",
       "    .dataframe tbody tr th {\n",
       "        vertical-align: top;\n",
       "    }\n",
       "\n",
       "    .dataframe thead th {\n",
       "        text-align: right;\n",
       "    }\n",
       "</style>\n",
       "<table border=\"1\" class=\"dataframe\">\n",
       "  <thead>\n",
       "    <tr style=\"text-align: right;\">\n",
       "      <th></th>\n",
       "      <th>term</th>\n",
       "      <th>frequency</th>\n",
       "    </tr>\n",
       "  </thead>\n",
       "  <tbody>\n",
       "    <tr>\n",
       "      <th>19</th>\n",
       "      <td>1</td>\n",
       "      <td>469</td>\n",
       "    </tr>\n",
       "    <tr>\n",
       "      <th>82</th>\n",
       "      <td>scene</td>\n",
       "      <td>459</td>\n",
       "    </tr>\n",
       "    <tr>\n",
       "      <th>85</th>\n",
       "      <td>act</td>\n",
       "      <td>459</td>\n",
       "    </tr>\n",
       "    <tr>\n",
       "      <th>92</th>\n",
       "      <td>speech</td>\n",
       "      <td>459</td>\n",
       "    </tr>\n",
       "    <tr>\n",
       "      <th>1</th>\n",
       "      <td>2</td>\n",
       "      <td>423</td>\n",
       "    </tr>\n",
       "  </tbody>\n",
       "</table>\n",
       "</div>"
      ],
      "text/plain": [
       "      term  frequency\n",
       "19       1        469\n",
       "82   scene        459\n",
       "85     act        459\n",
       "92  speech        459\n",
       "1        2        423"
      ]
     },
     "execution_count": 83,
     "metadata": {},
     "output_type": "execute_result"
    }
   ],
   "source": [
    "df=df.sort_values(\"frequency\",ascending=False)\n",
    "df.head()"
   ]
  },
  {
   "cell_type": "markdown",
   "id": "selective-insulation",
   "metadata": {},
   "source": [
    "<p>Let there are <b>V</b> unique words in the collection. So, here <b>V</b> = 12940</p>\n"
   ]
  },
  {
   "cell_type": "markdown",
   "id": "electoral-genome",
   "metadata": {},
   "source": [
    "<p>Next, we will add ranks to the words based on frequencies</p>"
   ]
  },
  {
   "cell_type": "markdown",
   "id": "enclosed-spain",
   "metadata": {},
   "source": [
    "<h2>Assigning ranks to the terms</p>"
   ]
  },
  {
   "cell_type": "code",
   "execution_count": 88,
   "id": "former-grass",
   "metadata": {},
   "outputs": [
    {
     "data": {
      "text/html": [
       "<div>\n",
       "<style scoped>\n",
       "    .dataframe tbody tr th:only-of-type {\n",
       "        vertical-align: middle;\n",
       "    }\n",
       "\n",
       "    .dataframe tbody tr th {\n",
       "        vertical-align: top;\n",
       "    }\n",
       "\n",
       "    .dataframe thead th {\n",
       "        text-align: right;\n",
       "    }\n",
       "</style>\n",
       "<table border=\"1\" class=\"dataframe\">\n",
       "  <thead>\n",
       "    <tr style=\"text-align: right;\">\n",
       "      <th></th>\n",
       "      <th>rank</th>\n",
       "      <th>term</th>\n",
       "      <th>frequency</th>\n",
       "    </tr>\n",
       "  </thead>\n",
       "  <tbody>\n",
       "    <tr>\n",
       "      <th>19</th>\n",
       "      <td>1</td>\n",
       "      <td>1</td>\n",
       "      <td>469</td>\n",
       "    </tr>\n",
       "    <tr>\n",
       "      <th>82</th>\n",
       "      <td>2</td>\n",
       "      <td>scene</td>\n",
       "      <td>459</td>\n",
       "    </tr>\n",
       "    <tr>\n",
       "      <th>85</th>\n",
       "      <td>3</td>\n",
       "      <td>act</td>\n",
       "      <td>459</td>\n",
       "    </tr>\n",
       "    <tr>\n",
       "      <th>92</th>\n",
       "      <td>4</td>\n",
       "      <td>speech</td>\n",
       "      <td>459</td>\n",
       "    </tr>\n",
       "    <tr>\n",
       "      <th>1</th>\n",
       "      <td>5</td>\n",
       "      <td>2</td>\n",
       "      <td>423</td>\n",
       "    </tr>\n",
       "  </tbody>\n",
       "</table>\n",
       "</div>"
      ],
      "text/plain": [
       "    rank    term  frequency\n",
       "19     1       1        469\n",
       "82     2   scene        459\n",
       "85     3     act        459\n",
       "92     4  speech        459\n",
       "1      5       2        423"
      ]
     },
     "execution_count": 88,
     "metadata": {},
     "output_type": "execute_result"
    }
   ],
   "source": [
    "df.insert(0,\"rank\",range(1,len(df)+1))\n",
    "df.head()"
   ]
  },
  {
   "cell_type": "markdown",
   "id": "chubby-thomas",
   "metadata": {},
   "source": [
    "<h2>Assigning probabilities</h2>"
   ]
  },
  {
   "cell_type": "markdown",
   "id": "swiss-terrorism",
   "metadata": {},
   "source": [
    "<p style=\"font-size:20px\"> $ Probability(r)= \\frac{freq(r)}{N}$ </p>\n",
    "<p>freq(r) = freq of word at rank r <br/> N=total number of terms in corpus</p>"
   ]
  },
  {
   "cell_type": "code",
   "execution_count": 94,
   "id": "artistic-spanish",
   "metadata": {},
   "outputs": [
    {
     "name": "stdout",
     "output_type": "stream",
     "text": [
      "92590\n"
     ]
    }
   ],
   "source": [
    "total_terms=df[[\"frequency\"]].sum(axis=0)['frequency']\n",
    "print(total_terms)"
   ]
  },
  {
   "cell_type": "code",
   "execution_count": 101,
   "id": "reverse-booth",
   "metadata": {},
   "outputs": [],
   "source": [
    "#adding probability\n",
    "df['Pr']=df.apply(lambda row:row['frequency']/total_terms,axis=1)\n",
    "#probability in percentage\n",
    "df['Pr(%)']=df.apply(lambda row:row['Pr']*100,axis=1)\n",
    "#r*pr\n",
    "df['r*Pr']=df.apply(lambda row:row['rank']*row['Pr'],axis=1)"
   ]
  },
  {
   "cell_type": "code",
   "execution_count": 102,
   "id": "enabling-syndicate",
   "metadata": {},
   "outputs": [
    {
     "data": {
      "text/html": [
       "<div>\n",
       "<style scoped>\n",
       "    .dataframe tbody tr th:only-of-type {\n",
       "        vertical-align: middle;\n",
       "    }\n",
       "\n",
       "    .dataframe tbody tr th {\n",
       "        vertical-align: top;\n",
       "    }\n",
       "\n",
       "    .dataframe thead th {\n",
       "        text-align: right;\n",
       "    }\n",
       "</style>\n",
       "<table border=\"1\" class=\"dataframe\">\n",
       "  <thead>\n",
       "    <tr style=\"text-align: right;\">\n",
       "      <th></th>\n",
       "      <th>rank</th>\n",
       "      <th>term</th>\n",
       "      <th>frequency</th>\n",
       "      <th>Pr</th>\n",
       "      <th>Pr(%)</th>\n",
       "      <th>r*Pr</th>\n",
       "    </tr>\n",
       "  </thead>\n",
       "  <tbody>\n",
       "    <tr>\n",
       "      <th>19</th>\n",
       "      <td>1</td>\n",
       "      <td>1</td>\n",
       "      <td>469</td>\n",
       "      <td>0.005065</td>\n",
       "      <td>0.506534</td>\n",
       "      <td>0.005065</td>\n",
       "    </tr>\n",
       "    <tr>\n",
       "      <th>82</th>\n",
       "      <td>2</td>\n",
       "      <td>scene</td>\n",
       "      <td>459</td>\n",
       "      <td>0.004957</td>\n",
       "      <td>0.495734</td>\n",
       "      <td>0.009915</td>\n",
       "    </tr>\n",
       "    <tr>\n",
       "      <th>85</th>\n",
       "      <td>3</td>\n",
       "      <td>act</td>\n",
       "      <td>459</td>\n",
       "      <td>0.004957</td>\n",
       "      <td>0.495734</td>\n",
       "      <td>0.014872</td>\n",
       "    </tr>\n",
       "    <tr>\n",
       "      <th>92</th>\n",
       "      <td>4</td>\n",
       "      <td>speech</td>\n",
       "      <td>459</td>\n",
       "      <td>0.004957</td>\n",
       "      <td>0.495734</td>\n",
       "      <td>0.019829</td>\n",
       "    </tr>\n",
       "    <tr>\n",
       "      <th>1</th>\n",
       "      <td>5</td>\n",
       "      <td>2</td>\n",
       "      <td>423</td>\n",
       "      <td>0.004569</td>\n",
       "      <td>0.456853</td>\n",
       "      <td>0.022843</td>\n",
       "    </tr>\n",
       "  </tbody>\n",
       "</table>\n",
       "</div>"
      ],
      "text/plain": [
       "    rank    term  frequency        Pr     Pr(%)      r*Pr\n",
       "19     1       1        469  0.005065  0.506534  0.005065\n",
       "82     2   scene        459  0.004957  0.495734  0.009915\n",
       "85     3     act        459  0.004957  0.495734  0.014872\n",
       "92     4  speech        459  0.004957  0.495734  0.019829\n",
       "1      5       2        423  0.004569  0.456853  0.022843"
      ]
     },
     "execution_count": 102,
     "metadata": {},
     "output_type": "execute_result"
    }
   ],
   "source": [
    "df.head()"
   ]
  },
  {
   "cell_type": "markdown",
   "id": "alone-abraham",
   "metadata": {},
   "source": [
    "<p>Now, zippf's law states that : </p>\n",
    "<p style=\"font-size:20px\"> $ r*P(r) = A $ </p>\n",
    "<p>Or this is a constant acccross the terms.</p>\n",
    "<p style=\"font-size:20px\">$ \\therefore  r*freq(r) = A*N $</p>"
   ]
  },
  {
   "cell_type": "code",
   "execution_count": 105,
   "id": "nervous-rugby",
   "metadata": {},
   "outputs": [
    {
     "data": {
      "text/html": [
       "<div>\n",
       "<style scoped>\n",
       "    .dataframe tbody tr th:only-of-type {\n",
       "        vertical-align: middle;\n",
       "    }\n",
       "\n",
       "    .dataframe tbody tr th {\n",
       "        vertical-align: top;\n",
       "    }\n",
       "\n",
       "    .dataframe thead th {\n",
       "        text-align: right;\n",
       "    }\n",
       "</style>\n",
       "<table border=\"1\" class=\"dataframe\">\n",
       "  <thead>\n",
       "    <tr style=\"text-align: right;\">\n",
       "      <th></th>\n",
       "      <th>rank</th>\n",
       "      <th>term</th>\n",
       "      <th>frequency</th>\n",
       "      <th>Pr</th>\n",
       "      <th>Pr(%)</th>\n",
       "      <th>r*Pr</th>\n",
       "      <th>r*freq(r)</th>\n",
       "    </tr>\n",
       "  </thead>\n",
       "  <tbody>\n",
       "    <tr>\n",
       "      <th>19</th>\n",
       "      <td>1</td>\n",
       "      <td>1</td>\n",
       "      <td>469</td>\n",
       "      <td>0.005065</td>\n",
       "      <td>0.506534</td>\n",
       "      <td>0.005065</td>\n",
       "      <td>469</td>\n",
       "    </tr>\n",
       "    <tr>\n",
       "      <th>82</th>\n",
       "      <td>2</td>\n",
       "      <td>scene</td>\n",
       "      <td>459</td>\n",
       "      <td>0.004957</td>\n",
       "      <td>0.495734</td>\n",
       "      <td>0.009915</td>\n",
       "      <td>918</td>\n",
       "    </tr>\n",
       "    <tr>\n",
       "      <th>85</th>\n",
       "      <td>3</td>\n",
       "      <td>act</td>\n",
       "      <td>459</td>\n",
       "      <td>0.004957</td>\n",
       "      <td>0.495734</td>\n",
       "      <td>0.014872</td>\n",
       "      <td>1377</td>\n",
       "    </tr>\n",
       "    <tr>\n",
       "      <th>92</th>\n",
       "      <td>4</td>\n",
       "      <td>speech</td>\n",
       "      <td>459</td>\n",
       "      <td>0.004957</td>\n",
       "      <td>0.495734</td>\n",
       "      <td>0.019829</td>\n",
       "      <td>1836</td>\n",
       "    </tr>\n",
       "    <tr>\n",
       "      <th>1</th>\n",
       "      <td>5</td>\n",
       "      <td>2</td>\n",
       "      <td>423</td>\n",
       "      <td>0.004569</td>\n",
       "      <td>0.456853</td>\n",
       "      <td>0.022843</td>\n",
       "      <td>2115</td>\n",
       "    </tr>\n",
       "  </tbody>\n",
       "</table>\n",
       "</div>"
      ],
      "text/plain": [
       "    rank    term  frequency        Pr     Pr(%)      r*Pr  r*freq(r)\n",
       "19     1       1        469  0.005065  0.506534  0.005065        469\n",
       "82     2   scene        459  0.004957  0.495734  0.009915        918\n",
       "85     3     act        459  0.004957  0.495734  0.014872       1377\n",
       "92     4  speech        459  0.004957  0.495734  0.019829       1836\n",
       "1      5       2        423  0.004569  0.456853  0.022843       2115"
      ]
     },
     "execution_count": 105,
     "metadata": {},
     "output_type": "execute_result"
    }
   ],
   "source": [
    "#r*freq(r)\n",
    "df['r*freq(r)']=df.apply(lambda row:row['rank']*row['frequency'],axis=1)\n",
    "df.head()"
   ]
  },
  {
   "cell_type": "markdown",
   "id": "consecutive-survey",
   "metadata": {},
   "source": [
    "<h2 style=\"color:blue;\">Plotting log(r) vs log(freq(r)) curve </h2>"
   ]
  },
  {
   "cell_type": "markdown",
   "id": "rental-deadline",
   "metadata": {},
   "source": [
    "<p>If Zipf's law holds we should see a line with slope -1</p>"
   ]
  },
  {
   "cell_type": "code",
   "execution_count": 130,
   "id": "funky-piano",
   "metadata": {},
   "outputs": [
    {
     "data": {
      "image/png": "[encoded data removed]",
      "text/plain": [
       "<Figure size 432x288 with 1 Axes>"
      ]
     },
     "metadata": {},
     "output_type": "display_data"
    }
   ],
   "source": [
    "import matplotlib.pyplot as plt\n",
    "import seaborn as sns\n",
    "\n",
    "x=np.log10(df['rank'])\n",
    "y=np.log10(df['frequency'])\n",
    "\n",
    "sns.set_style(\"whitegrid\")\n",
    "sns.lineplot(x=x,y=y,palette=\"flare\")\n",
    "plt.xlabel(\"log(r)\",fontsize=15)\n",
    "plt.ylabel(\"log(freq(r))\",fontsize=15)\n",
    "\n",
    "plt.show()"
   ]
  },
  {
   "cell_type": "markdown",
   "id": "immediate-contrast",
   "metadata": {},
   "source": [
    "<p> It's not perfect, but it represents a line with slope =-1. Also, zipf's law makes most error for low freq and high freq terms, which is true.</p>"
   ]
  },
  {
   "cell_type": "markdown",
   "id": "functional-missile",
   "metadata": {},
   "source": [
    "<p>Let <b>MaxRank(n)</b> be the maximum rank of all words which appear <b>n</b> times. </p>"
   ]
  },
  {
   "cell_type": "markdown",
   "id": "conventional-tsunami",
   "metadata": {},
   "source": [
    "<img src=\"https://drive.google.com/uc?export=view&id=1B6hnO-3hRwsumuxbCdGnCjyK8zX4U_iu\"/>"
   ]
  },
  {
   "cell_type": "markdown",
   "id": "acknowledged-parts",
   "metadata": {},
   "source": [
    "<p>Here r98 means maximum rank for freq=98</p>"
   ]
  },
  {
   "cell_type": "markdown",
   "id": "wanted-transmission",
   "metadata": {},
   "source": [
    "<p>Notice that the number of words that appear n \n",
    "times is :<br/>\n",
    "    <br/>\n",
    "$ NumberWordsOccur(n) = MaxRank(n) – MaxRank(n + 1) $ </p>\n",
    "<br/>\n",
    "<p>$ Number(98) = MaxRank(98) - MaxRank(100) $  $\\mspace{5mu} \\because no \\mspace{5mu}  99$\n",
    "<br/>\n",
    "$ Number(98) = 4-1 $\n",
    " <br/>\n",
    " $ \\implies Number(98) = 3 $,  which is true\n",
    "</p>\n",
    "<p> This can be interpreted as, the number of words which appear 98 times is 3</p>"
   ]
  },
  {
   "cell_type": "markdown",
   "id": "governing-tolerance",
   "metadata": {},
   "source": [
    "<p>If, $ r = MaxRank(n) $ <br/>\n",
    "That means, $ freq(r) = n $ , as n is number of times the rank r word occurs <br/><br/>\n",
    " Now, $ r*freq(r) = A*N $\n",
    " <br/><br/>\n",
    " $ \\therefore MaxRank(n) * n = A*N$ \n",
    "  <br/><br/>\n",
    " $ \\implies MaxRank(n) = \\frac{A*N}{n} $\n",
    "    \n",
    "</p>\n",
    "<br/> <br/>\n",
    "<p>Now $ NumWordsOccur(n) = MaxRank(n) - MaxRank(n+1) $ <br/><br/>\n",
    "$ \\begin{equation}\n",
    "\\therefore NumberWordsOccur(n) = \\cfrac{A \\cdot N}{n} - \\cfrac{A \\cdot N}{n+1}\n",
    "\\end{equation}\n",
    "$\n",
    " <br/><br/>\n",
    "$ \\begin{equation}\n",
    "\\therefore NumberWordsOccur(n) = \\cfrac{A \\cdot N}{n \\cdot (n+1)}\n",
    "\\end{equation}\n",
    "$\n",
    "</p>"
   ]
  },
  {
   "cell_type": "markdown",
   "id": "round-breeding",
   "metadata": {},
   "source": [
    "<h2 style=\"color:blue;\">Standard form </h2>"
   ]
  },
  {
   "cell_type": "code",
   "execution_count": 133,
   "id": "critical-skiing",
   "metadata": {},
   "outputs": [
    {
     "data": {
      "text/html": [
       "<div>\n",
       "<style scoped>\n",
       "    .dataframe tbody tr th:only-of-type {\n",
       "        vertical-align: middle;\n",
       "    }\n",
       "\n",
       "    .dataframe tbody tr th {\n",
       "        vertical-align: top;\n",
       "    }\n",
       "\n",
       "    .dataframe thead th {\n",
       "        text-align: right;\n",
       "    }\n",
       "</style>\n",
       "<table border=\"1\" class=\"dataframe\">\n",
       "  <thead>\n",
       "    <tr style=\"text-align: right;\">\n",
       "      <th></th>\n",
       "      <th>rank</th>\n",
       "      <th>term</th>\n",
       "      <th>frequency</th>\n",
       "      <th>Pr</th>\n",
       "      <th>Pr(%)</th>\n",
       "      <th>r*Pr</th>\n",
       "      <th>r*freq(r)</th>\n",
       "    </tr>\n",
       "  </thead>\n",
       "  <tbody>\n",
       "    <tr>\n",
       "      <th>7827</th>\n",
       "      <td>12936</td>\n",
       "      <td>decreasing</td>\n",
       "      <td>1</td>\n",
       "      <td>0.000011</td>\n",
       "      <td>0.00108</td>\n",
       "      <td>0.139713</td>\n",
       "      <td>12936</td>\n",
       "    </tr>\n",
       "    <tr>\n",
       "      <th>7826</th>\n",
       "      <td>12937</td>\n",
       "      <td>trip</td>\n",
       "      <td>1</td>\n",
       "      <td>0.000011</td>\n",
       "      <td>0.00108</td>\n",
       "      <td>0.139724</td>\n",
       "      <td>12937</td>\n",
       "    </tr>\n",
       "    <tr>\n",
       "      <th>7818</th>\n",
       "      <td>12938</td>\n",
       "      <td>yellow</td>\n",
       "      <td>1</td>\n",
       "      <td>0.000011</td>\n",
       "      <td>0.00108</td>\n",
       "      <td>0.139734</td>\n",
       "      <td>12938</td>\n",
       "    </tr>\n",
       "    <tr>\n",
       "      <th>7815</th>\n",
       "      <td>12939</td>\n",
       "      <td>quaff</td>\n",
       "      <td>1</td>\n",
       "      <td>0.000011</td>\n",
       "      <td>0.00108</td>\n",
       "      <td>0.139745</td>\n",
       "      <td>12939</td>\n",
       "    </tr>\n",
       "    <tr>\n",
       "      <th>12939</th>\n",
       "      <td>12940</td>\n",
       "      <td>mista</td>\n",
       "      <td>1</td>\n",
       "      <td>0.000011</td>\n",
       "      <td>0.00108</td>\n",
       "      <td>0.139756</td>\n",
       "      <td>12940</td>\n",
       "    </tr>\n",
       "  </tbody>\n",
       "</table>\n",
       "</div>"
      ],
      "text/plain": [
       "        rank        term  frequency        Pr    Pr(%)      r*Pr  r*freq(r)\n",
       "7827   12936  decreasing          1  0.000011  0.00108  0.139713      12936\n",
       "7826   12937        trip          1  0.000011  0.00108  0.139724      12937\n",
       "7818   12938      yellow          1  0.000011  0.00108  0.139734      12938\n",
       "7815   12939       quaff          1  0.000011  0.00108  0.139745      12939\n",
       "12939  12940       mista          1  0.000011  0.00108  0.139756      12940"
      ]
     },
     "execution_count": 133,
     "metadata": {},
     "output_type": "execute_result"
    }
   ],
   "source": [
    "df.tail()"
   ]
  },
  {
   "cell_type": "markdown",
   "id": "cognitive-easter",
   "metadata": {},
   "source": [
    "<p>\n",
    " If, Zipf's law is applied to least frequent word, <b>r=V</b> , because least frequent term is Vth unique term or the end term.\n",
    "    \n",
    "In our case $ freq(r|V)= 1$ \n",
    "<br/><br/>\n",
    " $ \\therefore r \\cdot freq(r) = A \\cdot N $\n",
    "<br/><br/>\n",
    " $\\therefore V = A \\cdot N $ <br/><br/>\n",
    " Therefore, from above equation <br/> <br/>\n",
    "  \n",
    "$ \\begin{equation}\n",
    "\\therefore NumberWordsOccur(n) = \\cfrac{V}{n \\cdot (n+1)}\n",
    "\\end{equation}\n",
    "$\n",
    " &nbsp; &nbsp;,where V is the number of unique term in the corpus.\n",
    "</p>"
   ]
  },
  {
   "cell_type": "markdown",
   "id": "ideal-usage",
   "metadata": {},
   "source": [
    "<h2 style=\"color:blue;\">Some Test </h2>"
   ]
  },
  {
   "cell_type": "code",
   "execution_count": 141,
   "id": "fifth-bench",
   "metadata": {},
   "outputs": [
    {
     "data": {
      "text/plain": [
       "6470.0"
      ]
     },
     "execution_count": 141,
     "metadata": {},
     "output_type": "execute_result"
    }
   ],
   "source": [
    "#number of words that appear only once\n",
    "nofWordsOne=12940/((1)*(2))\n",
    "nofWordsOne"
   ]
  },
  {
   "cell_type": "code",
   "execution_count": 149,
   "id": "recreational-competition",
   "metadata": {},
   "outputs": [
    {
     "name": "stdout",
     "output_type": "stream",
     "text": [
      "(5575, 7)\n"
     ]
    }
   ],
   "source": [
    "print(df[df['frequency']==1].shape)"
   ]
  },
  {
   "cell_type": "markdown",
   "id": "third-personality",
   "metadata": {},
   "source": [
    "<p>Fairly close</p>"
   ]
  },
  {
   "cell_type": "code",
   "execution_count": 152,
   "id": "awful-consultancy",
   "metadata": {},
   "outputs": [
    {
     "data": {
      "text/plain": [
       "30.80952380952381"
      ]
     },
     "execution_count": 152,
     "metadata": {},
     "output_type": "execute_result"
    }
   ],
   "source": [
    "nofWords20=12940/((20)*(20+1))\n",
    "nofWords20"
   ]
  },
  {
   "cell_type": "code",
   "execution_count": 153,
   "id": "liable-begin",
   "metadata": {},
   "outputs": [
    {
     "name": "stdout",
     "output_type": "stream",
     "text": [
      "(44, 7)\n"
     ]
    }
   ],
   "source": [
    "print(df[df['frequency']==20].shape)"
   ]
  },
  {
   "cell_type": "markdown",
   "id": "surprised-customs",
   "metadata": {},
   "source": [
    "<p>So, for an estimate, we are actually close.</p>"
   ]
  },
  {
   "cell_type": "code",
   "execution_count": null,
   "id": "useful-florida",
   "metadata": {},
   "outputs": [],
   "source": []
  }
 ],
 "metadata": {
  "kernelspec": {
   "display_name": "Python 3",
   "language": "python",
   "name": "python3"
  },
  "language_info": {
   "codemirror_mode": {
    "name": "ipython",
    "version": 3
   },
   "file_extension": ".py",
   "mimetype": "text/x-python",
   "name": "python",
   "nbconvert_exporter": "python",
   "pygments_lexer": "ipython3",
   "version": "3.8.10"
  }
 },
 "nbformat": 4,
 "nbformat_minor": 5
}
